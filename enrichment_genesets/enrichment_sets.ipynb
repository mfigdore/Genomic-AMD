{
 "cells": [
  {
   "cell_type": "code",
   "execution_count": 6,
   "metadata": {},
   "outputs": [],
   "source": [
    "import mygene\n",
    "import pandas as pd\n",
    "import numpy as np"
   ]
  },
  {
   "cell_type": "code",
   "execution_count": 7,
   "metadata": {},
   "outputs": [],
   "source": [
    "sig_genes_enrich = pd.read_csv('./PCA_Kmeans_sig_genes.csv', index_col= 0)"
   ]
  },
  {
   "cell_type": "code",
   "execution_count": 8,
   "metadata": {},
   "outputs": [
    {
     "name": "stdout",
     "output_type": "stream",
     "text": [
      "querying 1-100...done.\n",
      "Finished.\n",
      "querying 1-100...done.\n",
      "Finished.\n",
      "querying 1-100...done.\n",
      "Finished.\n",
      "querying 1-100...done.\n",
      "Finished.\n"
     ]
    }
   ],
   "source": [
    "for k in range(0, 4):\n",
    "    gene_list = sig_genes_enrich.loc[np.logical_or(sig_genes_enrich['Cluster 1'] == k,sig_genes_enrich['Cluster 2'] == k),:][:100]['Ensemble ID']\n",
    "\n",
    "    mg = mygene.MyGeneInfo()\n",
    "    ginfo = mg.querymany(gene_list, scopes='ensembl.gene')\n",
    "    \n",
    "    gene_set = []\n",
    "    for g in ginfo:\n",
    "        ## This is the gene name. There's also some other info in this dict object (g). Feel free to look around if you want.\n",
    "        gene_set.append(g['symbol'])\n",
    "        \n",
    "    ## Writing the set of genes to a file, so we can upload it to a web based enrichment analysis toolkit, or\n",
    "    ## even use for gseapy..\n",
    "    with open('gene_set' + str(k) +'.txt', 'w') as f:\n",
    "        for item in gene_set:\n",
    "            f.write(\"%s\\n\" % item)"
   ]
  },
  {
   "cell_type": "code",
   "execution_count": null,
   "metadata": {},
   "outputs": [],
   "source": []
  },
  {
   "cell_type": "code",
   "execution_count": null,
   "metadata": {},
   "outputs": [],
   "source": []
  }
 ],
 "metadata": {
  "kernelspec": {
   "display_name": "Python 3",
   "language": "python",
   "name": "python3"
  },
  "language_info": {
   "codemirror_mode": {
    "name": "ipython",
    "version": 3
   },
   "file_extension": ".py",
   "mimetype": "text/x-python",
   "name": "python",
   "nbconvert_exporter": "python",
   "pygments_lexer": "ipython3",
   "version": "3.6.4"
  }
 },
 "nbformat": 4,
 "nbformat_minor": 2
}
